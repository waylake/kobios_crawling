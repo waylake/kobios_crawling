{
 "cells": [
  {
   "cell_type": "code",
   "execution_count": 1,
   "metadata": {},
   "outputs": [],
   "source": [
    "import requests\n",
    "from fake_headers import Headers\n",
    "from bs4 import BeautifulSoup\n",
    "\n",
    "headers = Headers(headers=True).generate()\n",
    "url = \"https://kobis.or.kr/kobis/business/stat/boxs/findPeriodSeatTicketList.do\"\n",
    "\n",
    "payload = {\n",
    "    \"CSRFToken\": \"G1P5qi2QQzdb48cAT4etN5FEw5HKBf3uH2jfE9rWzEI\",\n",
    "    \"curTime\": \"2024-06-07\",\n",
    "    \"totSeatCntRatioOrder\": \"\",\n",
    "    \"totSeatCntOrder\": \"\",\n",
    "    \"totShowAmtOrder\": \"\",\n",
    "    \"addTotShowAmtOrder\": \"\",\n",
    "    \"totShowCntOrder\": \"\",\n",
    "    \"addTotShowCntOrder\": \"\",\n",
    "    \"loadEnd\": \"0\",\n",
    "    \"dmlMode\": \"search\",\n",
    "    \"startDate\": \"2024-06-01\",\n",
    "    \"endDate\": \"2024-06-07\",\n",
    "    \"searchType\": \"\",\n",
    "    \"repNationCd\": \"\",\n",
    "    \"wideareaCd\": \"\"\n",
    "}\n",
    "\n",
    "response = requests.post(url, headers=headers, data=payload)\n",
    "soup = BeautifulSoup(response.text, 'html.parser')\n",
    "table_datas: list = soup.find('tbody', {'id': 'mainTbody'}).find_all('tr')\n",
    "movie_seat_ratios = []\n",
    "\n",
    "for row in table_datas:\n",
    "    movie_name = row.find('td', {'id': 'td_movie'}).get_text(strip=True)\n",
    "    seat_ratio = row.find('td', {'id': 'td_totSeatCntRatio'}).get_text(strip=True)\n",
    "    movie_seat_ratios.append((movie_name, seat_ratio))\n",
    "\n",
    "# 결과 출력\n",
    "for movie, ratio in movie_seat_ratios:\n",
    "    print(f\"영화: {movie}, 좌석점유율: {ratio}\")\n"
   ]
  },
  {
   "cell_type": "code",
   "execution_count": null,
   "metadata": {},
   "outputs": [],
   "source": []
  }
 ],
 "metadata": {
  "kernelspec": {
   "display_name": "py310",
   "language": "python",
   "name": "python3"
  },
  "language_info": {
   "codemirror_mode": {
    "name": "ipython",
    "version": 3
   },
   "file_extension": ".py",
   "mimetype": "text/x-python",
   "name": "python",
   "nbconvert_exporter": "python",
   "pygments_lexer": "ipython3",
   "version": "3.10.14"
  }
 },
 "nbformat": 4,
 "nbformat_minor": 2
}
